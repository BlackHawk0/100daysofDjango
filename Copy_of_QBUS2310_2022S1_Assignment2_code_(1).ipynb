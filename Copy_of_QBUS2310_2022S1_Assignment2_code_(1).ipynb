{
  "cells": [
    {
      "cell_type": "markdown",
      "metadata": {
        "id": "view-in-github",
        "colab_type": "text"
      },
      "source": [
        "<a href=\"https://colab.research.google.com/github/BlackHawk0/100daysofDjango/blob/main/Copy_of_QBUS2310_2022S1_Assignment2_code_(1).ipynb\" target=\"_parent\"><img src=\"https://colab.research.google.com/assets/colab-badge.svg\" alt=\"Open In Colab\"/></a>"
      ]
    },
    {
      "cell_type": "markdown",
      "id": "ad5c273e",
      "metadata": {
        "deletable": false,
        "editable": false,
        "nbgrader": {
          "cell_type": "markdown",
          "checksum": "e6e14c7465dd08726517b28e6dafebba",
          "grade": false,
          "grade_id": "cell-24fe6f18a080a1bb",
          "locked": true,
          "schema_version": 3,
          "solution": false,
          "task": false
        },
        "id": "ad5c273e"
      },
      "source": [
        "# QBUS2310 Management Science\n",
        "\n",
        "## Assignment 2\n",
        "Semester 1, 2022\n",
        "\n",
        "Please answer all questions in the spaces provided in this notebook. Make sure you fill in any place that says\n",
        "`YOUR CODE HERE`. Remove the\n",
        "```Python\n",
        "raise NotImplementedError()\n",
        "```\n",
        "lines.\n",
        "\n",
        "Before you submit, make sure everything runs as expected. In the menubar, select Kernel$\\rightarrow$Restart & Run All.\n",
        "\n",
        "When you are done, save the file and upload it to Canvas. You should submit one file for the whole assignment.  \n",
        "\n",
        "__Good luck!__"
      ]
    },
    {
      "cell_type": "code",
      "source": [
        "!pip install gurobipy"
      ],
      "metadata": {
        "colab": {
          "base_uri": "https://localhost:8080/"
        },
        "id": "8RInpbczVzL-",
        "outputId": "9568330b-8756-4595-f49c-540a02cee320"
      },
      "id": "8RInpbczVzL-",
      "execution_count": 3,
      "outputs": [
        {
          "output_type": "stream",
          "name": "stdout",
          "text": [
            "Collecting gurobipy\n",
            "  Downloading gurobipy-9.5.1-cp37-cp37m-manylinux2014_x86_64.whl (11.5 MB)\n",
            "\u001b[K     |████████████████████████████████| 11.5 MB 27.2 MB/s \n",
            "\u001b[?25hInstalling collected packages: gurobipy\n",
            "Successfully installed gurobipy-9.5.1\n"
          ]
        }
      ]
    },
    {
      "cell_type": "code",
      "execution_count": 4,
      "id": "4b143aee",
      "metadata": {
        "deletable": false,
        "editable": false,
        "nbgrader": {
          "cell_type": "code",
          "checksum": "dab25cdaa1b6c77dc10598aeb089360d",
          "grade": false,
          "grade_id": "cell-3fee08c12a7fdc8a",
          "locked": true,
          "schema_version": 3,
          "solution": false,
          "task": false
        },
        "id": "4b143aee"
      },
      "outputs": [],
      "source": [
        "# Importing packages\n",
        "## If you are using Google Colab, please remember to comment out the `!pip install gurobipy` line\n",
        "import numpy as np\n",
        "import pandas as pd\n",
        "import gurobipy as gp\n",
        "from gurobipy import GRB\n",
        "from datetime import datetime, timedelta\n",
        "from itertools import combinations"
      ]
    },
    {
      "cell_type": "markdown",
      "id": "fee615b7",
      "metadata": {
        "deletable": false,
        "editable": false,
        "nbgrader": {
          "cell_type": "markdown",
          "checksum": "8c43f2abe5d2a0f8a5f879eab3fcd747",
          "grade": false,
          "grade_id": "cell-9948f3c738107d10",
          "locked": true,
          "schema_version": 3,
          "solution": false,
          "task": false
        },
        "id": "fee615b7"
      },
      "source": [
        "## Question 3\n",
        "\n",
        "We will implement our tournament elimination model and test it on real data. The following script loads results data for the 2018-2019 NBA regular season into a `pandas.DataFrame` object. The columns are\n",
        "\n",
        "* `GAME_DATE_EST`: the date of the game in Eastern Standard Time (EST).\n",
        "* `HOME_TEAM_ID`: the name of the home team.\n",
        "* `VISITOR_TEAM_ID`: the name of the visitor team.\n",
        "* `HOME_TEAM_WINS`: 1 if the home team won, 0 if the home team lost (and the visitor team won)."
      ]
    },
    {
      "cell_type": "code",
      "execution_count": 4,
      "id": "a55f9a64",
      "metadata": {
        "deletable": false,
        "editable": false,
        "nbgrader": {
          "cell_type": "code",
          "checksum": "97c6d3dc5eaa1f1cae268507decf66ca",
          "grade": false,
          "grade_id": "cell-7ec203f2ecca72e3",
          "locked": true,
          "schema_version": 3,
          "solution": false,
          "task": false
        },
        "id": "a55f9a64"
      },
      "outputs": [],
      "source": [
        "data = pd.read_csv('games_NBA_1819.csv')\n",
        "data['GAME_DATE_EST'] = pd.to_datetime(data['GAME_DATE_EST'])"
      ]
    },
    {
      "cell_type": "code",
      "execution_count": 5,
      "id": "bca013b2",
      "metadata": {
        "deletable": false,
        "editable": false,
        "nbgrader": {
          "cell_type": "code",
          "checksum": "a2154aabb9c84efb5e93ec69d32b3f76",
          "grade": true,
          "grade_id": "cell-3c_setup",
          "locked": true,
          "points": 0,
          "schema_version": 3,
          "solution": false,
          "task": false
        },
        "id": "bca013b2"
      },
      "outputs": [],
      "source": [
        "### Importing solution file. Do not move or delete this cell."
      ]
    },
    {
      "cell_type": "markdown",
      "id": "71dd95c0",
      "metadata": {
        "deletable": false,
        "editable": false,
        "nbgrader": {
          "cell_type": "markdown",
          "checksum": "9343d70301914498904de39d93806c02",
          "grade": false,
          "grade_id": "cell-877d8f7573dcca5c",
          "locked": true,
          "schema_version": 3,
          "solution": false,
          "task": false
        },
        "id": "71dd95c0"
      },
      "source": [
        "### Q3(a) Data preparation\n",
        "\n",
        "(5 points) We need to extract the numbers that we need. Complete the `compute_numbers` function below so that it does the following:\n",
        "\n",
        "* takes as input the `year`, `month`, `day` of a certain date and `pandas.DataFrame`.\n",
        "* computes the total wins for each team up to and including the input date. Store this as a dictionary with team name keys and values as the number of wins.\n",
        "* computes the remaining games for each team pair. Store this as a dictionary with team pair keys and values as the number of games left for that pair.\n",
        "\n",
        "We have provided an extract of the expected results for two dates to test your function.\n",
        "\n",
        "**Date 1: 22nd October 2018**\n",
        "\n",
        "```Python\n",
        "wins_1, games_to_play_1 = compute_numbers(2018, 10, 22, df=data)\n",
        "print(wins_1)\n",
        "```\n",
        "```\n",
        "{'Warriors': 3, 'Celtics': 2, 'Clippers': 2, 'Hornets': 2, 'Pistons': 2, ...\n",
        "```\n",
        "```Python\n",
        "print(games_to_play_1)\n",
        "```\n",
        "```\n",
        "{('Warriors', 'Celtics'): 2, ('Warriors', 'Clippers'): 4, ('Warriors', 'Hornets'): 2, ('Warriors', 'Pistons'): 2, ('Warriors', 'Pacers'): 2, ('Warriors', 'Magic'): 2, ('Warriors', 'Suns'): 3, ('Warriors', 'Raptors'): 2, ...\n",
        "```\n",
        "\n",
        "**Date 2: 3rd February 2019**\n",
        "\n",
        "```Python\n",
        "wins_2, games_to_play_2 = compute_numbers(2019, 2, 3, df=data)\n",
        "print(wins_2)\n",
        "```\n",
        "```\n",
        "{'Warriors': 37, 'Celtics': 34, 'Clippers': 29, 'Hornets': 26, 'Pistons': 22, ...\n",
        "```\n",
        "```Python\n",
        "print(games_to_play_2)\n",
        "```\n",
        "```\n",
        "{('Warriors', 'Celtics'): 1, ('Warriors', 'Clippers'): 1, ('Warriors', 'Hornets'): 2, ('Warriors', 'Pistons'): 1, ('Warriors', 'Pacers'): 1, ('Warriors', 'Magic'): 1, ('Warriors', 'Suns'): 2, ('Warriors', 'Raptors'): 0, ...\n",
        "```"
      ]
    },
    {
      "cell_type": "code",
      "execution_count": 61,
      "id": "8713ee18",
      "metadata": {
        "deletable": false,
        "nbgrader": {
          "cell_type": "code",
          "checksum": "c12ce883c9170b9748985c86e1a77fe6",
          "grade": false,
          "grade_id": "cell-5b92cb75dc796023",
          "locked": false,
          "schema_version": 3,
          "solution": true,
          "task": false
        },
        "id": "8713ee18"
      },
      "outputs": [],
      "source": [
        "def compute_numbers(year, month, day, df=data):\n",
        "\n",
        "    ## Construct datetime object for easy slicing\n",
        "    ## (note that the date column of the data has been converted to datetime objects)\n",
        "    date = datetime(year, month, day)\n",
        "\n",
        "    ## Slice dataframe into past and future\n",
        "    past = df[(df.GAME_DATE_EST <= date)]\n",
        "    future = df[(df.GAME_DATE_EST > date)]\n",
        "\n",
        "    teams = df.HOME_TEAM_ID.unique()\n",
        "\n",
        "    wins = {t: 0 for t in teams}\n",
        "    games_to_play = {p: 0 for p in combinations(teams, 2)}\n",
        "\n",
        "    ###########################\n",
        "    ### YOUR CODE HERE ########\n",
        "    # Compute wins\n",
        "    for team in teams:\n",
        "        wins[team] = len(past[(past.HOME_TEAM_ID == team) | (past.VISITOR_TEAM_ID == team) & (past.HOME_TEAM_WINS == 1)])\n",
        "\n",
        "    # Compute games to play\n",
        "    for team1, team2 in combinations(teams, 2):\n",
        "        games_to_play[(team1, team2)] = len(future[((future.HOME_TEAM_ID == team1) & (future.VISITOR_TEAM_ID == team2)) | ((future.HOME_TEAM_ID == team2) & (future.VISITOR_TEAM_ID == team1))])\n",
        "\n",
        "    return wins, games_to_play\n"
      ]
    },
    {
      "cell_type": "code",
      "execution_count": 7,
      "id": "6a1e3d81",
      "metadata": {
        "deletable": false,
        "editable": false,
        "nbgrader": {
          "cell_type": "code",
          "checksum": "60aca3554c4a4b89fb0395c4cd638a18",
          "grade": true,
          "grade_id": "cell-3a_test1",
          "locked": true,
          "points": 1,
          "schema_version": 3,
          "solution": false,
          "task": false
        },
        "id": "6a1e3d81"
      },
      "outputs": [],
      "source": [
        "# Assertion cell: Q3a - Please to not edit or delete this cell"
      ]
    },
    {
      "cell_type": "code",
      "execution_count": 8,
      "id": "6d626729",
      "metadata": {
        "deletable": false,
        "editable": false,
        "nbgrader": {
          "cell_type": "code",
          "checksum": "58a292b953054fd78cd708ee73e51a72",
          "grade": true,
          "grade_id": "cell-3a_test2",
          "locked": true,
          "points": 1,
          "schema_version": 3,
          "solution": false,
          "task": false
        },
        "id": "6d626729"
      },
      "outputs": [],
      "source": [
        "# Assertion cell: Q3a - Please to not edit or delete this cell"
      ]
    },
    {
      "cell_type": "code",
      "execution_count": 9,
      "id": "72cb05cc",
      "metadata": {
        "deletable": false,
        "editable": false,
        "nbgrader": {
          "cell_type": "code",
          "checksum": "ffedd7156594ebe36dc5eeef8ef269ce",
          "grade": true,
          "grade_id": "cell-3a_test3",
          "locked": true,
          "points": 3,
          "schema_version": 3,
          "solution": false,
          "task": false
        },
        "id": "72cb05cc"
      },
      "outputs": [],
      "source": [
        "# Assertion cell: Q3a - Please to not edit or delete this cell"
      ]
    },
    {
      "cell_type": "markdown",
      "id": "8e728ccb",
      "metadata": {
        "deletable": false,
        "editable": false,
        "nbgrader": {
          "cell_type": "markdown",
          "checksum": "e8902defec734994fc0d6ff34cf5d61a",
          "grade": false,
          "grade_id": "cell-54527663d292f61f",
          "locked": true,
          "schema_version": 3,
          "solution": false,
          "task": false
        },
        "id": "8e728ccb"
      },
      "source": [
        "### Q3(b) Implement model\n",
        "\n",
        "(8 points) Complete the `team_eliminated` function below that takes a team name stored in `team`, and the `wins`, `games_to_play` dictionaries (which are outputs of the `compute_numbers` function above) and checks whether that team is eliminated or not. Your function should return the Boolean `True` if the team is eliminated and `False` if otherwise."
      ]
    },
    {
      "cell_type": "code",
      "source": [
        "pip install pulp"
      ],
      "metadata": {
        "colab": {
          "base_uri": "https://localhost:8080/"
        },
        "id": "rjqhvXE2Xt6t",
        "outputId": "2ca9b91f-a51a-4d4e-f8d5-3382315bcf54"
      },
      "id": "rjqhvXE2Xt6t",
      "execution_count": 82,
      "outputs": [
        {
          "output_type": "stream",
          "name": "stdout",
          "text": [
            "Collecting pulp\n",
            "  Downloading PuLP-2.6.0-py3-none-any.whl (14.2 MB)\n",
            "\u001b[K     |████████████████████████████████| 14.2 MB 5.2 MB/s \n",
            "\u001b[?25hInstalling collected packages: pulp\n",
            "Successfully installed pulp-2.6.0\n"
          ]
        }
      ]
    },
    {
      "cell_type": "code",
      "execution_count": 86,
      "id": "be4da3e6",
      "metadata": {
        "deletable": false,
        "nbgrader": {
          "cell_type": "code",
          "checksum": "25842cc7832bfc0d7ae172b0d3a4fecf",
          "grade": false,
          "grade_id": "cell-9a6b69e97e34c026",
          "locked": false,
          "schema_version": 3,
          "solution": true,
          "task": false
        },
        "id": "be4da3e6"
      },
      "outputs": [],
      "source": [
        "from scipy.optimize import linprog\n",
        "import pulp as p\n",
        "def team_eliminated(team, wins, games_to_play):\n",
        "\n",
        "    ## Compute the best possible win total for the given team\n",
        "    W = wins[team] + sum([games_to_play[p] for p in games_to_play if p[0] == team or p[1] == team])\n",
        "\n",
        "    ## Construct sets which don't contain the team\n",
        "    teamlist = [t for t in wins if t != team]\n",
        "    pairs = [p for p in games_to_play if p[0] != team and p[1] != team]\n",
        "\n",
        "    ## Construct the index sets for the x variables\n",
        "    idx = [(h, a, h) for h, a in pairs] + [(h, a, a) for h, a in pairs]\n",
        "\n",
        "    ## Boolean variable that you need to modify\n",
        "    team_eliminated = None\n",
        "\n",
        "    ###########################\n",
        "    ### YOUR CODE HERE ########\n",
        "  # Create LP\n",
        "    prob = p.LpProblem(\"NBA\", p.LpMaximize)\n",
        "\n",
        "    # Create LP variables\n",
        "    lp = p.LpVariable.dict(\"lp\", [(h, a, x) for h, a, x in idx], lowBound=0, cat='Continuous')\n",
        "\n",
        "    # Objective Function\n",
        "    prob += p.lpSum([lp[(h, a, x)] for h, a, x in idx]), \"Objective Function\"\n",
        "\n",
        "    # Constraints\n",
        "    for x in teamlist:\n",
        "        prob += p.lpSum([lp[(h, a, x)] for (h, a, _x) in lp if _x == x]) <= W - wins[x], \"\"\n",
        "\n",
        "    # Solve LP\n",
        "    prob.solve()\n",
        "\n",
        "    if p.LpStatus[prob.status] == 'Optimal':\n",
        "        for v in prob.variables():\n",
        "            h, a, x = v.name.split(\"_\")\n",
        "            if x == team:\n",
        "                if v.varValue > 0:\n",
        "                    team_eliminated = True\n",
        "                else:\n",
        "                    team_eliminated = False\n",
        "\n",
        "    return team_eliminated"
      ]
    },
    {
      "cell_type": "markdown",
      "id": "c676e1a6",
      "metadata": {
        "deletable": false,
        "editable": false,
        "nbgrader": {
          "cell_type": "markdown",
          "checksum": "f68b2ad48b8cf01d2721043c1cfe5a31",
          "grade": false,
          "grade_id": "cell-b8c0ebff9578b371",
          "locked": true,
          "schema_version": 3,
          "solution": false,
          "task": false
        },
        "id": "c676e1a6"
      },
      "source": [
        "The following `which_teams_remaining` function takes the `wins` and `games_to_play` dictionaries, and computes which teams are eliminated and which are remaining, using the `team_eliminated` function above. You don't need to modify this function."
      ]
    },
    {
      "cell_type": "code",
      "execution_count": 84,
      "id": "c5a02ad1",
      "metadata": {
        "deletable": false,
        "editable": false,
        "nbgrader": {
          "cell_type": "code",
          "checksum": "f8a9c13afc05b2774a3b6bbd99dcccd8",
          "grade": false,
          "grade_id": "cell-1ee1e8f459d4d589",
          "locked": true,
          "schema_version": 3,
          "solution": false,
          "task": false
        },
        "id": "c5a02ad1"
      },
      "outputs": [],
      "source": [
        "def which_teams_remaining(wins, games_to_play):\n",
        "\n",
        "    remaining = []\n",
        "    eliminated = []\n",
        "    for t in wins:\n",
        "        elim = team_eliminated(t, wins, games_to_play)\n",
        "        if (elim):\n",
        "            eliminated.append(t)\n",
        "        else:\n",
        "            remaining.append(t)\n",
        "    return remaining, eliminated"
      ]
    },
    {
      "cell_type": "markdown",
      "id": "3062fc1f",
      "metadata": {
        "deletable": false,
        "editable": false,
        "nbgrader": {
          "cell_type": "markdown",
          "checksum": "6f33e2f7638ef43ea1f5978fa077548e",
          "grade": false,
          "grade_id": "cell-6919c307c58b1b86",
          "locked": true,
          "schema_version": 3,
          "solution": false,
          "task": false
        },
        "id": "3062fc1f"
      },
      "source": [
        "Here is an example usage of the functions above for checking which teams are remaining on 25th February 2019."
      ]
    },
    {
      "cell_type": "code",
      "execution_count": 87,
      "id": "d8e407c7",
      "metadata": {
        "deletable": false,
        "editable": false,
        "nbgrader": {
          "cell_type": "code",
          "checksum": "12eadd31abb5de0328019227bf8a4e3f",
          "grade": false,
          "grade_id": "cell-9637258b016832f1",
          "locked": true,
          "schema_version": 3,
          "solution": false,
          "task": false
        },
        "id": "d8e407c7",
        "colab": {
          "base_uri": "https://localhost:8080/",
          "height": 346
        },
        "outputId": "7945e6af-26d0-4e98-a11b-551a8d804983"
      },
      "outputs": [
        {
          "output_type": "error",
          "ename": "TypeError",
          "evalue": "ignored",
          "traceback": [
            "\u001b[0;31m---------------------------------------------------------------------------\u001b[0m",
            "\u001b[0;31mTypeError\u001b[0m                                 Traceback (most recent call last)",
            "\u001b[0;32m<ipython-input-87-32fda249aa78>\u001b[0m in \u001b[0;36m<module>\u001b[0;34m()\u001b[0m\n\u001b[1;32m      1\u001b[0m \u001b[0mwins\u001b[0m\u001b[0;34m,\u001b[0m \u001b[0mgames_to_play\u001b[0m \u001b[0;34m=\u001b[0m \u001b[0mcompute_numbers\u001b[0m\u001b[0;34m(\u001b[0m\u001b[0;36m2019\u001b[0m\u001b[0;34m,\u001b[0m \u001b[0;36m2\u001b[0m\u001b[0;34m,\u001b[0m \u001b[0;36m25\u001b[0m\u001b[0;34m,\u001b[0m \u001b[0mdf\u001b[0m\u001b[0;34m=\u001b[0m\u001b[0mdata\u001b[0m\u001b[0;34m)\u001b[0m\u001b[0;34m\u001b[0m\u001b[0;34m\u001b[0m\u001b[0m\n\u001b[1;32m      2\u001b[0m \u001b[0;34m\u001b[0m\u001b[0m\n\u001b[0;32m----> 3\u001b[0;31m \u001b[0mremaining\u001b[0m\u001b[0;34m,\u001b[0m \u001b[0meliminated\u001b[0m \u001b[0;34m=\u001b[0m \u001b[0mwhich_teams_remaining\u001b[0m\u001b[0;34m(\u001b[0m\u001b[0mwins\u001b[0m\u001b[0;34m,\u001b[0m \u001b[0mgames_to_play\u001b[0m\u001b[0;34m)\u001b[0m\u001b[0;34m\u001b[0m\u001b[0;34m\u001b[0m\u001b[0m\n\u001b[0m",
            "\u001b[0;32m<ipython-input-84-314d934e2e57>\u001b[0m in \u001b[0;36mwhich_teams_remaining\u001b[0;34m(wins, games_to_play)\u001b[0m\n\u001b[1;32m      4\u001b[0m     \u001b[0meliminated\u001b[0m \u001b[0;34m=\u001b[0m \u001b[0;34m[\u001b[0m\u001b[0;34m]\u001b[0m\u001b[0;34m\u001b[0m\u001b[0;34m\u001b[0m\u001b[0m\n\u001b[1;32m      5\u001b[0m     \u001b[0;32mfor\u001b[0m \u001b[0mt\u001b[0m \u001b[0;32min\u001b[0m \u001b[0mwins\u001b[0m\u001b[0;34m:\u001b[0m\u001b[0;34m\u001b[0m\u001b[0;34m\u001b[0m\u001b[0m\n\u001b[0;32m----> 6\u001b[0;31m         \u001b[0melim\u001b[0m \u001b[0;34m=\u001b[0m \u001b[0mteam_eliminated\u001b[0m\u001b[0;34m(\u001b[0m\u001b[0mt\u001b[0m\u001b[0;34m,\u001b[0m \u001b[0mwins\u001b[0m\u001b[0;34m,\u001b[0m \u001b[0mgames_to_play\u001b[0m\u001b[0;34m)\u001b[0m\u001b[0;34m\u001b[0m\u001b[0;34m\u001b[0m\u001b[0m\n\u001b[0m\u001b[1;32m      7\u001b[0m         \u001b[0;32mif\u001b[0m \u001b[0;34m(\u001b[0m\u001b[0melim\u001b[0m\u001b[0;34m)\u001b[0m\u001b[0;34m:\u001b[0m\u001b[0;34m\u001b[0m\u001b[0;34m\u001b[0m\u001b[0m\n\u001b[1;32m      8\u001b[0m             \u001b[0meliminated\u001b[0m\u001b[0;34m.\u001b[0m\u001b[0mappend\u001b[0m\u001b[0;34m(\u001b[0m\u001b[0mt\u001b[0m\u001b[0;34m)\u001b[0m\u001b[0;34m\u001b[0m\u001b[0;34m\u001b[0m\u001b[0m\n",
            "\u001b[0;32m<ipython-input-86-672804cd73b9>\u001b[0m in \u001b[0;36mteam_eliminated\u001b[0;34m(team, wins, games_to_play)\u001b[0m\n\u001b[1;32m     22\u001b[0m \u001b[0;34m\u001b[0m\u001b[0m\n\u001b[1;32m     23\u001b[0m     \u001b[0;31m# Create LP variables\u001b[0m\u001b[0;34m\u001b[0m\u001b[0;34m\u001b[0m\u001b[0;34m\u001b[0m\u001b[0m\n\u001b[0;32m---> 24\u001b[0;31m     \u001b[0mlp\u001b[0m \u001b[0;34m=\u001b[0m \u001b[0mp\u001b[0m\u001b[0;34m.\u001b[0m\u001b[0mLpVariable\u001b[0m\u001b[0;34m.\u001b[0m\u001b[0mdict\u001b[0m\u001b[0;34m(\u001b[0m\u001b[0;34m\"lp\"\u001b[0m\u001b[0;34m,\u001b[0m \u001b[0;34m[\u001b[0m\u001b[0;34m(\u001b[0m\u001b[0mh\u001b[0m\u001b[0;34m,\u001b[0m \u001b[0ma\u001b[0m\u001b[0;34m,\u001b[0m \u001b[0mx\u001b[0m\u001b[0;34m)\u001b[0m \u001b[0;32mfor\u001b[0m \u001b[0mh\u001b[0m\u001b[0;34m,\u001b[0m \u001b[0ma\u001b[0m\u001b[0;34m,\u001b[0m \u001b[0mx\u001b[0m \u001b[0;32min\u001b[0m \u001b[0midx\u001b[0m\u001b[0;34m]\u001b[0m\u001b[0;34m,\u001b[0m \u001b[0mlowBound\u001b[0m\u001b[0;34m=\u001b[0m\u001b[0;36m0\u001b[0m\u001b[0;34m,\u001b[0m \u001b[0mcat\u001b[0m\u001b[0;34m=\u001b[0m\u001b[0;34m'Continuous'\u001b[0m\u001b[0;34m)\u001b[0m\u001b[0;34m\u001b[0m\u001b[0;34m\u001b[0m\u001b[0m\n\u001b[0m\u001b[1;32m     25\u001b[0m \u001b[0;34m\u001b[0m\u001b[0m\n\u001b[1;32m     26\u001b[0m     \u001b[0;31m# Objective Function\u001b[0m\u001b[0;34m\u001b[0m\u001b[0;34m\u001b[0m\u001b[0;34m\u001b[0m\u001b[0m\n",
            "\u001b[0;32m/usr/local/lib/python3.7/dist-packages/pulp/pulp.py\u001b[0m in \u001b[0;36mdict\u001b[0;34m(cls, name, indices, lowBound, upBound, cat)\u001b[0m\n\u001b[1;32m    459\u001b[0m         \u001b[0md\u001b[0m \u001b[0;34m=\u001b[0m \u001b[0;34m{\u001b[0m\u001b[0;34m}\u001b[0m\u001b[0;34m\u001b[0m\u001b[0;34m\u001b[0m\u001b[0m\n\u001b[1;32m    460\u001b[0m         \u001b[0;32mfor\u001b[0m \u001b[0mi\u001b[0m \u001b[0;32min\u001b[0m \u001b[0mindex\u001b[0m\u001b[0;34m:\u001b[0m\u001b[0;34m\u001b[0m\u001b[0;34m\u001b[0m\u001b[0m\n\u001b[0;32m--> 461\u001b[0;31m             \u001b[0md\u001b[0m\u001b[0;34m[\u001b[0m\u001b[0mi\u001b[0m\u001b[0;34m]\u001b[0m \u001b[0;34m=\u001b[0m \u001b[0mcls\u001b[0m\u001b[0;34m(\u001b[0m\u001b[0mname\u001b[0m \u001b[0;34m%\u001b[0m \u001b[0mi\u001b[0m\u001b[0;34m,\u001b[0m \u001b[0mlowBound\u001b[0m\u001b[0;34m,\u001b[0m \u001b[0mupBound\u001b[0m\u001b[0;34m,\u001b[0m \u001b[0mcat\u001b[0m\u001b[0;34m)\u001b[0m\u001b[0;34m\u001b[0m\u001b[0;34m\u001b[0m\u001b[0m\n\u001b[0m\u001b[1;32m    462\u001b[0m         \u001b[0;32mreturn\u001b[0m \u001b[0md\u001b[0m\u001b[0;34m\u001b[0m\u001b[0;34m\u001b[0m\u001b[0m\n\u001b[1;32m    463\u001b[0m \u001b[0;34m\u001b[0m\u001b[0m\n",
            "\u001b[0;31mTypeError\u001b[0m: not all arguments converted during string formatting"
          ]
        }
      ],
      "source": [
        "wins, games_to_play = compute_numbers(2019, 2, 25, df=data)\n",
        "\n",
        "remaining, eliminated = which_teams_remaining(wins, games_to_play)"
      ]
    },
    {
      "cell_type": "code",
      "execution_count": 13,
      "id": "7b4f7dc8",
      "metadata": {
        "deletable": false,
        "editable": false,
        "nbgrader": {
          "cell_type": "code",
          "checksum": "6424069bd3cab4fdf7eb68aeda53ba82",
          "grade": true,
          "grade_id": "cell-3b_test1",
          "locked": true,
          "points": 2,
          "schema_version": 3,
          "solution": false,
          "task": false
        },
        "id": "7b4f7dc8"
      },
      "outputs": [],
      "source": [
        "# Assertion cell: Q3b - Please to not edit or delete this cell"
      ]
    },
    {
      "cell_type": "code",
      "execution_count": 14,
      "id": "eb545a52",
      "metadata": {
        "deletable": false,
        "editable": false,
        "nbgrader": {
          "cell_type": "code",
          "checksum": "68558fd33d4178b5646846165cb8e534",
          "grade": true,
          "grade_id": "cell-3b_test2",
          "locked": true,
          "points": 6,
          "schema_version": 3,
          "solution": false,
          "task": false
        },
        "id": "eb545a52"
      },
      "outputs": [],
      "source": [
        "# Assertion cell: Q3b - Please to not edit or delete this cell"
      ]
    },
    {
      "cell_type": "markdown",
      "id": "cd273462",
      "metadata": {
        "deletable": false,
        "editable": false,
        "nbgrader": {
          "cell_type": "markdown",
          "checksum": "f665cf8bf595543aef9aedea03774775",
          "grade": false,
          "grade_id": "cell-6fbce4ade97d3c0c",
          "locked": true,
          "schema_version": 3,
          "solution": false,
          "task": false
        },
        "id": "cd273462"
      },
      "source": [
        "### Q3(c) Interpretation questions\n",
        "\n",
        "Assign your student ID number to the appropriate variable in the following cell and run the subsequent cells to determine your question set.\n",
        "\n",
        "Before answering the questions, check that the code makes sense by running a few simple examples. E.g., the 2018-19 NBA regular season started on October 16 2018, and ended on April 10 2019. Therefore, trying a date of October 17 should not eliminate anyone, and trying April 10 should eliminate everyone except the teams with the highest wins.\n",
        "\n",
        "> **Note:** The computation for this question may take some time. Each code cell you submit has a 150-second execution time limit. As a rough guide, it should take around 0.5 seconds to run an instance of `which_teams_remaining`."
      ]
    },
    {
      "cell_type": "code",
      "execution_count": 15,
      "id": "18759360",
      "metadata": {
        "deletable": false,
        "nbgrader": {
          "cell_type": "code",
          "checksum": "e6647fe79dcc025928d92e94cb28a32a",
          "grade": false,
          "grade_id": "cell-25cf5a829c10f37f",
          "locked": false,
          "schema_version": 3,
          "solution": true,
          "task": false
        },
        "id": "18759360"
      },
      "outputs": [],
      "source": [
        "# You should assign your student ID number to the variable SID\n",
        "# To get your question set, run the following cells.\n",
        "# Make sure this is your SID. We will NOT use this variable when testing as we\n",
        "# will obtain it externally.\n",
        "SID = None\n",
        "###########################\n",
        "### YOUR CODE HERE ########\n",
        "\n",
        "SID = 'A0173839W'\n",
        "\n"
      ]
    },
    {
      "cell_type": "code",
      "execution_count": 16,
      "id": "25b30e2e",
      "metadata": {
        "deletable": false,
        "editable": false,
        "nbgrader": {
          "cell_type": "code",
          "checksum": "743fbd0e7269b2406d15d94d104509d2",
          "grade": false,
          "grade_id": "cell-8a5815f092a75d67",
          "locked": true,
          "schema_version": 3,
          "solution": false,
          "task": false
        },
        "id": "25b30e2e"
      },
      "outputs": [],
      "source": [
        "def generate_question_set(SID, df=data):\n",
        "    '''\n",
        "    This is a function to determine your question set.\n",
        "    '''\n",
        "    if len(str(SID)) == 9:\n",
        "        np.random.seed(int(SID))\n",
        "        teams = set(df.HOME_TEAM_ID.unique())\n",
        "        teams_list_1 = list(teams.difference(['Bucks', 'Warriors', 'Raptors']))\n",
        "        team_elim = np.random.choice(teams_list_1)\n",
        "\n",
        "        teams_list_2 = list(teams)\n",
        "\n",
        "        team_1, team_2 = np.random.choice(teams_list_2, size=2, replace=False)\n",
        "\n",
        "        n_eliminated = np.random.randint(low=5, high=25)\n",
        "        n_remaining = np.random.randint(low=5, high=25)\n",
        "\n",
        "        if n_eliminated + n_remaining == 30:\n",
        "            n_eliminated -= 2\n",
        "            n_remaining -= 2\n",
        "\n",
        "        print(f'''You should answer the following questions:\n",
        "        \n",
        "1) (3 points) What date are the {team_elim} eliminated? \n",
        "    Assign your answer to the variable ans_3c_team_eliminated as a tuple containing the (year, month, day).\n",
        "\n",
        "2) (3 points) Are the {team_1} eliminated before the {team_2}? \n",
        "    If the {team_1} are eliminated before the {team_2}, assign the Boolean True to the variable ans_3c_before.\n",
        "    Otherwise, if the {team_2} are eliminated before the {team_1}, or if they are eliminated on the same day, \n",
        "    assign the Boolean False to the variable ans_3c_before.\n",
        "    \n",
        "3) (3 points) What is the first date that at least {n_eliminated} teams are eliminated? \n",
        "    Assign your answer to the variable ans_3c_n_eliminated as a tuple containing the (year, month, day).\n",
        "\n",
        "4) (3 points) What is the last date that there were at least {n_remaining} teams remaining? \n",
        "    Assign your answer to the variable ans_3c_n_remaining as a tuple containing the (year, month, day).\n",
        "\n",
        "Note: The date a team is eliminated is the first date they appear in the eliminated list.\n",
        "''')\n",
        "        return 'End of question 3c.'\n",
        "    else:\n",
        "        raise ValueError(\"Not a valid SID!\")"
      ]
    },
    {
      "cell_type": "code",
      "execution_count": 17,
      "id": "417920bf",
      "metadata": {
        "deletable": false,
        "editable": false,
        "nbgrader": {
          "cell_type": "code",
          "checksum": "f4195ef786d8b2b3295f78162235234d",
          "grade": false,
          "grade_id": "cell-18d30a1501525939",
          "locked": true,
          "schema_version": 3,
          "solution": false,
          "task": false
        },
        "id": "417920bf",
        "colab": {
          "base_uri": "https://localhost:8080/",
          "height": 287
        },
        "outputId": "c4586e9e-d4a8-448d-9bfb-abeb5ca5bf5b"
      },
      "outputs": [
        {
          "output_type": "error",
          "ename": "ValueError",
          "evalue": "ignored",
          "traceback": [
            "\u001b[0;31m---------------------------------------------------------------------------\u001b[0m",
            "\u001b[0;31mValueError\u001b[0m                                Traceback (most recent call last)",
            "\u001b[0;32m<ipython-input-17-ed79e36a6654>\u001b[0m in \u001b[0;36m<module>\u001b[0;34m()\u001b[0m\n\u001b[0;32m----> 1\u001b[0;31m \u001b[0mprint\u001b[0m\u001b[0;34m(\u001b[0m\u001b[0mgenerate_question_set\u001b[0m\u001b[0;34m(\u001b[0m\u001b[0mSID\u001b[0m\u001b[0;34m,\u001b[0m \u001b[0mdf\u001b[0m\u001b[0;34m=\u001b[0m\u001b[0mdata\u001b[0m\u001b[0;34m)\u001b[0m\u001b[0;34m)\u001b[0m\u001b[0;34m\u001b[0m\u001b[0;34m\u001b[0m\u001b[0m\n\u001b[0m",
            "\u001b[0;32m<ipython-input-16-ec930c06c78b>\u001b[0m in \u001b[0;36mgenerate_question_set\u001b[0;34m(SID, df)\u001b[0m\n\u001b[1;32m      4\u001b[0m     '''\n\u001b[1;32m      5\u001b[0m     \u001b[0;32mif\u001b[0m \u001b[0mlen\u001b[0m\u001b[0;34m(\u001b[0m\u001b[0mstr\u001b[0m\u001b[0;34m(\u001b[0m\u001b[0mSID\u001b[0m\u001b[0;34m)\u001b[0m\u001b[0;34m)\u001b[0m \u001b[0;34m==\u001b[0m \u001b[0;36m9\u001b[0m\u001b[0;34m:\u001b[0m\u001b[0;34m\u001b[0m\u001b[0;34m\u001b[0m\u001b[0m\n\u001b[0;32m----> 6\u001b[0;31m         \u001b[0mnp\u001b[0m\u001b[0;34m.\u001b[0m\u001b[0mrandom\u001b[0m\u001b[0;34m.\u001b[0m\u001b[0mseed\u001b[0m\u001b[0;34m(\u001b[0m\u001b[0mint\u001b[0m\u001b[0;34m(\u001b[0m\u001b[0mSID\u001b[0m\u001b[0;34m)\u001b[0m\u001b[0;34m)\u001b[0m\u001b[0;34m\u001b[0m\u001b[0;34m\u001b[0m\u001b[0m\n\u001b[0m\u001b[1;32m      7\u001b[0m         \u001b[0mteams\u001b[0m \u001b[0;34m=\u001b[0m \u001b[0mset\u001b[0m\u001b[0;34m(\u001b[0m\u001b[0mdf\u001b[0m\u001b[0;34m.\u001b[0m\u001b[0mHOME_TEAM_ID\u001b[0m\u001b[0;34m.\u001b[0m\u001b[0munique\u001b[0m\u001b[0;34m(\u001b[0m\u001b[0;34m)\u001b[0m\u001b[0;34m)\u001b[0m\u001b[0;34m\u001b[0m\u001b[0;34m\u001b[0m\u001b[0m\n\u001b[1;32m      8\u001b[0m         \u001b[0mteams_list_1\u001b[0m \u001b[0;34m=\u001b[0m \u001b[0mlist\u001b[0m\u001b[0;34m(\u001b[0m\u001b[0mteams\u001b[0m\u001b[0;34m.\u001b[0m\u001b[0mdifference\u001b[0m\u001b[0;34m(\u001b[0m\u001b[0;34m[\u001b[0m\u001b[0;34m'Bucks'\u001b[0m\u001b[0;34m,\u001b[0m \u001b[0;34m'Warriors'\u001b[0m\u001b[0;34m,\u001b[0m \u001b[0;34m'Raptors'\u001b[0m\u001b[0;34m]\u001b[0m\u001b[0;34m)\u001b[0m\u001b[0;34m)\u001b[0m\u001b[0;34m\u001b[0m\u001b[0;34m\u001b[0m\u001b[0m\n",
            "\u001b[0;31mValueError\u001b[0m: invalid literal for int() with base 10: 'A0173839W'"
          ]
        }
      ],
      "source": [
        "print(generate_question_set(SID, df=data))"
      ]
    },
    {
      "cell_type": "code",
      "execution_count": 18,
      "id": "107ca6cf",
      "metadata": {
        "deletable": false,
        "nbgrader": {
          "cell_type": "code",
          "checksum": "e0d5409305e6304dee46f362c606aebf",
          "grade": false,
          "grade_id": "cell-461fcb90a9e26a48",
          "locked": false,
          "schema_version": 3,
          "solution": true,
          "task": false
        },
        "id": "107ca6cf"
      },
      "outputs": [],
      "source": [
        "# Q3c Assign your answers to the following variables.\n",
        "year, month, date = None, None, None\n",
        "ans_3c_team_eliminated = (year, month, date)\n",
        "ans_3c_before = None\n",
        "ans_3c_n_eliminated = (year, month, date)\n",
        "ans_3c_n_remaining = (year, month, date)\n",
        "\n",
        "\n",
        "###########################\n",
        "### YOUR CODE HERE ########\n",
        "year, month, date = 2018, 10, 22\n",
        "ans_3c_team_eliminated = (year, month, date)\n",
        "ans_3c_before = None\n",
        "ans_3c_n_eliminated = (year, month, date)\n",
        "ans_3c_n_remaining = (year, month, date)\n",
        "\n",
        "\n"
      ]
    },
    {
      "cell_type": "code",
      "execution_count": 19,
      "id": "e04cf9f8",
      "metadata": {
        "deletable": false,
        "editable": false,
        "nbgrader": {
          "cell_type": "code",
          "checksum": "6b9ab69b42dac71f57dcbd7c35699dc3",
          "grade": true,
          "grade_id": "cell-3c_soln",
          "locked": true,
          "points": 0,
          "schema_version": 3,
          "solution": false,
          "task": false
        },
        "id": "e04cf9f8"
      },
      "outputs": [],
      "source": [
        "# Assertion cell: Q3c - Please to not edit or delete this cell"
      ]
    },
    {
      "cell_type": "code",
      "execution_count": 20,
      "id": "2b2a0b39",
      "metadata": {
        "deletable": false,
        "editable": false,
        "nbgrader": {
          "cell_type": "code",
          "checksum": "f9b95deefb98c9d489fa531f9da56f70",
          "grade": true,
          "grade_id": "cell-3c_eliminated",
          "locked": true,
          "points": 3,
          "schema_version": 3,
          "solution": false,
          "task": false
        },
        "id": "2b2a0b39"
      },
      "outputs": [],
      "source": [
        "# Assertion cell: Q3c - Please to not edit or delete this cell"
      ]
    },
    {
      "cell_type": "code",
      "execution_count": 21,
      "id": "10ac5c87",
      "metadata": {
        "deletable": false,
        "editable": false,
        "nbgrader": {
          "cell_type": "code",
          "checksum": "8f5f6bddc81810d6eb8e3571dd9b5195",
          "grade": true,
          "grade_id": "cell-3c_before",
          "locked": true,
          "points": 3,
          "schema_version": 3,
          "solution": false,
          "task": false
        },
        "id": "10ac5c87"
      },
      "outputs": [],
      "source": [
        "# Assertion cell: Q3c - Please to not edit or delete this cell"
      ]
    },
    {
      "cell_type": "code",
      "execution_count": 22,
      "id": "e6d1d04a",
      "metadata": {
        "deletable": false,
        "editable": false,
        "nbgrader": {
          "cell_type": "code",
          "checksum": "9461597f64fe1510cfe6653a70056c3e",
          "grade": true,
          "grade_id": "cell-3c_nremaining",
          "locked": true,
          "points": 3,
          "schema_version": 3,
          "solution": false,
          "task": false
        },
        "id": "e6d1d04a"
      },
      "outputs": [],
      "source": [
        "# Assertion cell: Q3c - Please to not edit or delete this cell"
      ]
    },
    {
      "cell_type": "code",
      "execution_count": 23,
      "id": "2b491fd6",
      "metadata": {
        "deletable": false,
        "editable": false,
        "nbgrader": {
          "cell_type": "code",
          "checksum": "a0cc43ee477a925c7af2162be58f4d5a",
          "grade": true,
          "grade_id": "cell-3c_neliminated",
          "locked": true,
          "points": 3,
          "schema_version": 3,
          "solution": false,
          "task": false
        },
        "id": "2b491fd6"
      },
      "outputs": [],
      "source": [
        "# Assertion cell: Q3c - Please to not edit or delete this cell"
      ]
    },
    {
      "cell_type": "markdown",
      "id": "df912616",
      "metadata": {
        "deletable": false,
        "editable": false,
        "nbgrader": {
          "cell_type": "markdown",
          "checksum": "24fdc69f45c7d1f0ecb849716074b3cc",
          "grade": false,
          "grade_id": "cell-a55c31b30004872f",
          "locked": true,
          "schema_version": 3,
          "solution": false,
          "task": false
        },
        "id": "df912616"
      },
      "source": [
        "## Question 5\n",
        "\n",
        "### Q5(c)\n",
        "#### Part (i)\n",
        "\n",
        "(3 points) Complete the function called `generate_bigM_c` to generate the big-M values by the method described in Question 5(a). Your function should take in as inputs:\n",
        "\n",
        "- `A`, which is a $m \\times n$ `numpy.ndarray`,\n",
        "- `B`, which is a $n \\times N$ `numpy.ndarray` where the $k$th column of `B` is $b^k$ as described in the pdf file, and\n",
        "- `p`, the number of scenarios we wish the constraints to be held.\n",
        "\n",
        "Your function should return a $m \\times N$ `numpy.ndarray` where the $(i, k)$-th entry is $M_i^k$ (as defined on the pdf).\n",
        "\n",
        "To help you test your functions, we have given you a sample input in the following cell. Note that the data may not be of the same dimension when we test your code, so make sure your code generalizes!"
      ]
    },
    {
      "cell_type": "code",
      "execution_count": 10,
      "id": "a340efe5",
      "metadata": {
        "deletable": false,
        "editable": false,
        "nbgrader": {
          "cell_type": "code",
          "checksum": "c444f419410b1e9f5d4a50ee902b122c",
          "grade": false,
          "grade_id": "cell-9094e3f6ee504a21",
          "locked": true,
          "schema_version": 3,
          "solution": false,
          "task": false
        },
        "id": "a340efe5"
      },
      "outputs": [],
      "source": [
        "m = 50\n",
        "n = 100\n",
        "N = 30\n",
        "np.random.seed(1729)\n",
        "A = np.random.uniform(low=0, high=100, size=(m, n))\n",
        "B = np.random.uniform(low=0, high=1000, size=(m, N))\n",
        "c = np.random.uniform(low=0, high=100, size=n)\n",
        "p = 15"
      ]
    },
    {
      "cell_type": "code",
      "execution_count": 11,
      "id": "47bede88",
      "metadata": {
        "deletable": false,
        "nbgrader": {
          "cell_type": "code",
          "checksum": "956ddd2a6ff701d361f3c9c9da09b0e5",
          "grade": false,
          "grade_id": "cell-54fbc3acbf709d90",
          "locked": false,
          "schema_version": 3,
          "solution": true,
          "task": false
        },
        "id": "47bede88"
      },
      "outputs": [],
      "source": [
        "def generate_bigM_c(A, B, p):\n",
        "    M = None\n",
        "    ###########################\n",
        "    ### YOUR CODE HERE ########\n",
        "    \n",
        "    M = np.zeros((A.shape[0], B.shape[1]))\n",
        "    for i in range(A.shape[0]):\n",
        "        for k in range(B.shape[1]):\n",
        "            M[i, k] = np.max(np.abs(A[i, :] * B[:, k]))\n",
        "    return M"
      ]
    },
    {
      "cell_type": "code",
      "execution_count": null,
      "id": "65800db2",
      "metadata": {
        "deletable": false,
        "editable": false,
        "nbgrader": {
          "cell_type": "code",
          "checksum": "c846b743fcd7cb817d6557e767167c34",
          "grade": true,
          "grade_id": "cell-5ci_runs",
          "locked": true,
          "points": 1,
          "schema_version": 3,
          "solution": false,
          "task": false
        },
        "id": "65800db2"
      },
      "outputs": [],
      "source": [
        "# Assertion cell: Q5ci - Please to not edit or delete this cell"
      ]
    },
    {
      "cell_type": "code",
      "execution_count": null,
      "id": "b90f710e",
      "metadata": {
        "deletable": false,
        "editable": false,
        "nbgrader": {
          "cell_type": "code",
          "checksum": "9e83a14de40b17fee05280cf5de1fa76",
          "grade": true,
          "grade_id": "cell-5ci_given",
          "locked": true,
          "points": 1,
          "schema_version": 3,
          "solution": false,
          "task": false
        },
        "id": "b90f710e"
      },
      "outputs": [],
      "source": [
        "# Assertion cell: Q5ci - Please to not edit or delete this cell"
      ]
    },
    {
      "cell_type": "code",
      "execution_count": null,
      "id": "9b4c4f25",
      "metadata": {
        "deletable": false,
        "editable": false,
        "nbgrader": {
          "cell_type": "code",
          "checksum": "0a037c0d85d8ac7b77e1e158ab6536b0",
          "grade": true,
          "grade_id": "cell-5ci_unseen",
          "locked": true,
          "points": 1,
          "schema_version": 3,
          "solution": false,
          "task": false
        },
        "id": "9b4c4f25"
      },
      "outputs": [],
      "source": [
        "# Assertion cell: Q5ci - Please to not edit or delete this cell"
      ]
    },
    {
      "cell_type": "markdown",
      "id": "977cc5cf",
      "metadata": {
        "deletable": false,
        "editable": false,
        "nbgrader": {
          "cell_type": "markdown",
          "checksum": "b8df529c5aeb0afb2db516a69c728884",
          "grade": false,
          "grade_id": "cell-7e3d2bc28a29536c",
          "locked": true,
          "schema_version": 3,
          "solution": false,
          "task": false
        },
        "id": "977cc5cf"
      },
      "source": [
        "#### Part (ii)\n",
        "\n",
        "(3 points) Complete the function called `solve_chance_constraints` that implements the model described in part (b). Your function should take as inputs the following:\n",
        "\n",
        "- `A`, which is a $m \\times n$ `numpy.ndarray`,\n",
        "- `B`, which is a $n \\times N$ `numpy.ndarray` where the $k$th column of `B` is $b^k$ as described in the pdf file,\n",
        "- `c`, which is the cost vector stored as a 1-dimensional `numpy.ndarray` of length $n$,\n",
        "- `p`, the number of scenarios we wish the constraints to be held, and\n",
        "- `generate_bigM`, which is a function used to obtain the big-M values. Note that this is a generic function name. It is not the same as the function you wrote in part (i); however, when you run the code in part (d), you will use the function you wrote in part (i) as input.\n",
        "\n",
        "Your function should return a tuple of the following:\n",
        "\n",
        "- optimal objective value, \n",
        "- the value of $x$ at optimality,\n",
        "- a 1-dimensional Boolean `numpy.ndarray` where the $k$th entry is `True` if the $k$th set of constraints are satisfied and `False` if otherwise, and\n",
        "- the running time.\n",
        "\n",
        "*Note.* You should only return the time taken to solve the MIP, i.e., only time taken by the `mod.optimize()` command. Do not include the time taken to construct the model. *Hint.* You can query the runtime by accessing a model parameter."
      ]
    },
    {
      "cell_type": "code",
      "execution_count": 12,
      "id": "fceafb68",
      "metadata": {
        "deletable": false,
        "nbgrader": {
          "cell_type": "code",
          "checksum": "d8e4936ae516170e2b400311db02a59c",
          "grade": false,
          "grade_id": "cell-fa7426ae3f05b536",
          "locked": false,
          "schema_version": 3,
          "solution": true,
          "task": false
        },
        "id": "fceafb68"
      },
      "outputs": [],
      "source": [
        "def solve_chance_constraints(A, B, c, p, generate_bigM):\n",
        "\n",
        "    M = generate_bigM(A, B, p)\n",
        "\n",
        "    mod = gp.Model('chance-constraints')\n",
        "    mod.Params.OutputFlag = 0\n",
        "    mod.Params.LogToConsole = 0\n",
        "\n",
        "    opt_obj = None\n",
        "    opt_x = None\n",
        "    satisfied_constraints = None\n",
        "    running_time = None\n",
        "    ###########################\n",
        "    ### YOUR CODE HERE ########\n",
        "    \n",
        "    start_time = time.time()\n",
        "    x = mod.addVars(n, vtype=GRB.CONTINUOUS, name='x')\n",
        "    mod.setObjective(c.T * x, GRB.MINIMIZE)\n",
        "    for i in range(p):\n",
        "        mod.addConstr(A * x <= M[i] * B[:, i])\n",
        "    mod.optimize()\n",
        "    running_time = time.time() - start_time\n",
        "    opt_obj = mod.objVal\n",
        "    opt_x = np.array([x[i].x for i in range(n)])\n",
        "    satisfied_constraints = np.array([A * opt_x <= M[i] * B[:, i] for i in range(p)])\n",
        "    return opt_obj, opt_x, satisfied_constraints, running_time"
      ]
    },
    {
      "cell_type": "code",
      "execution_count": 27,
      "id": "ee4d8bd7",
      "metadata": {
        "deletable": false,
        "editable": false,
        "nbgrader": {
          "cell_type": "code",
          "checksum": "25cec1c286bd1c850ba860ea87ea6887",
          "grade": true,
          "grade_id": "cell-5cii_runs",
          "locked": true,
          "points": 1,
          "schema_version": 3,
          "solution": false,
          "task": false
        },
        "id": "ee4d8bd7"
      },
      "outputs": [],
      "source": [
        "# Assertion cell: Q5cii - Please to not edit or delete this cell"
      ]
    },
    {
      "cell_type": "code",
      "execution_count": 28,
      "id": "7c7ed636",
      "metadata": {
        "deletable": false,
        "editable": false,
        "nbgrader": {
          "cell_type": "code",
          "checksum": "10d271719b6d599c6f8f4c22e0fb8e2c",
          "grade": true,
          "grade_id": "cell-5cii_given",
          "locked": true,
          "points": 1,
          "schema_version": 3,
          "solution": false,
          "task": false
        },
        "id": "7c7ed636"
      },
      "outputs": [],
      "source": [
        "# Assertion cell: Q5cii - Please to not edit or delete this cell"
      ]
    },
    {
      "cell_type": "code",
      "execution_count": 29,
      "id": "7a8414dd",
      "metadata": {
        "deletable": false,
        "editable": false,
        "nbgrader": {
          "cell_type": "code",
          "checksum": "95aebb020d5ee4156fe2e6fbd090c6e5",
          "grade": true,
          "grade_id": "cell-5cii_unseen",
          "locked": true,
          "points": 1,
          "schema_version": 3,
          "solution": false,
          "task": false
        },
        "id": "7a8414dd"
      },
      "outputs": [],
      "source": [
        "# Assertion cell: Q5cii - Please to not edit or delete this cell"
      ]
    },
    {
      "cell_type": "markdown",
      "id": "0eb06417",
      "metadata": {
        "deletable": false,
        "editable": false,
        "nbgrader": {
          "cell_type": "markdown",
          "checksum": "3ef801d00267492229833296998c4d3c",
          "grade": false,
          "grade_id": "cell-7fc217e2ee136551",
          "locked": true,
          "schema_version": 3,
          "solution": false,
          "task": false
        },
        "id": "0eb06417"
      },
      "source": [
        "### Q5(d)\n",
        "\n",
        "Run the following cell to obtain the runtime. You may want to run this cell multiple times and average the results."
      ]
    },
    {
      "cell_type": "code",
      "execution_count": 13,
      "id": "35439e81",
      "metadata": {
        "deletable": false,
        "editable": false,
        "nbgrader": {
          "cell_type": "code",
          "checksum": "827fe4dbb89a88e0fb1faac56abdff7c",
          "grade": false,
          "grade_id": "cell-13395ed5bf66eedd",
          "locked": true,
          "schema_version": 3,
          "solution": false,
          "task": false
        },
        "id": "35439e81",
        "colab": {
          "base_uri": "https://localhost:8080/",
          "height": 346
        },
        "outputId": "bb0fcdf6-46e5-47c7-ed4b-3bcbc7af4294"
      },
      "outputs": [
        {
          "output_type": "error",
          "ename": "ValueError",
          "evalue": "ignored",
          "traceback": [
            "\u001b[0;31m---------------------------------------------------------------------------\u001b[0m",
            "\u001b[0;31mValueError\u001b[0m                                Traceback (most recent call last)",
            "\u001b[0;32m<ipython-input-13-921d181aff77>\u001b[0m in \u001b[0;36m<module>\u001b[0;34m()\u001b[0m\n\u001b[1;32m      8\u001b[0m \u001b[0mp\u001b[0m \u001b[0;34m=\u001b[0m \u001b[0;36m15\u001b[0m\u001b[0;34m\u001b[0m\u001b[0;34m\u001b[0m\u001b[0m\n\u001b[1;32m      9\u001b[0m \u001b[0;34m\u001b[0m\u001b[0m\n\u001b[0;32m---> 10\u001b[0;31m \u001b[0mchance_constraints\u001b[0m \u001b[0;34m=\u001b[0m \u001b[0msolve_chance_constraints\u001b[0m\u001b[0;34m(\u001b[0m\u001b[0mA\u001b[0m\u001b[0;34m,\u001b[0m \u001b[0mB\u001b[0m\u001b[0;34m,\u001b[0m \u001b[0mc\u001b[0m\u001b[0;34m,\u001b[0m \u001b[0mp\u001b[0m\u001b[0;34m,\u001b[0m \u001b[0mgenerate_bigM_c\u001b[0m\u001b[0;34m)\u001b[0m\u001b[0;34m\u001b[0m\u001b[0;34m\u001b[0m\u001b[0m\n\u001b[0m\u001b[1;32m     11\u001b[0m \u001b[0mprint\u001b[0m\u001b[0;34m(\u001b[0m\u001b[0;34mf'Running time: {chance_constraints[-1] :.4f}'\u001b[0m\u001b[0;34m)\u001b[0m\u001b[0;34m\u001b[0m\u001b[0;34m\u001b[0m\u001b[0m\n",
            "\u001b[0;32m<ipython-input-12-a9fb7dac6927>\u001b[0m in \u001b[0;36msolve_chance_constraints\u001b[0;34m(A, B, c, p, generate_bigM)\u001b[0m\n\u001b[1;32m      1\u001b[0m \u001b[0;32mdef\u001b[0m \u001b[0msolve_chance_constraints\u001b[0m\u001b[0;34m(\u001b[0m\u001b[0mA\u001b[0m\u001b[0;34m,\u001b[0m \u001b[0mB\u001b[0m\u001b[0;34m,\u001b[0m \u001b[0mc\u001b[0m\u001b[0;34m,\u001b[0m \u001b[0mp\u001b[0m\u001b[0;34m,\u001b[0m \u001b[0mgenerate_bigM\u001b[0m\u001b[0;34m)\u001b[0m\u001b[0;34m:\u001b[0m\u001b[0;34m\u001b[0m\u001b[0;34m\u001b[0m\u001b[0m\n\u001b[1;32m      2\u001b[0m \u001b[0;34m\u001b[0m\u001b[0m\n\u001b[0;32m----> 3\u001b[0;31m     \u001b[0mM\u001b[0m \u001b[0;34m=\u001b[0m \u001b[0mgenerate_bigM\u001b[0m\u001b[0;34m(\u001b[0m\u001b[0mA\u001b[0m\u001b[0;34m,\u001b[0m \u001b[0mB\u001b[0m\u001b[0;34m,\u001b[0m \u001b[0mp\u001b[0m\u001b[0;34m)\u001b[0m\u001b[0;34m\u001b[0m\u001b[0;34m\u001b[0m\u001b[0m\n\u001b[0m\u001b[1;32m      4\u001b[0m \u001b[0;34m\u001b[0m\u001b[0m\n\u001b[1;32m      5\u001b[0m     \u001b[0mmod\u001b[0m \u001b[0;34m=\u001b[0m \u001b[0mgp\u001b[0m\u001b[0;34m.\u001b[0m\u001b[0mModel\u001b[0m\u001b[0;34m(\u001b[0m\u001b[0;34m'chance-constraints'\u001b[0m\u001b[0;34m)\u001b[0m\u001b[0;34m\u001b[0m\u001b[0;34m\u001b[0m\u001b[0m\n",
            "\u001b[0;32m<ipython-input-11-ece218c555ac>\u001b[0m in \u001b[0;36mgenerate_bigM_c\u001b[0;34m(A, B, p)\u001b[0m\n\u001b[1;32m      7\u001b[0m     \u001b[0;32mfor\u001b[0m \u001b[0mi\u001b[0m \u001b[0;32min\u001b[0m \u001b[0mrange\u001b[0m\u001b[0;34m(\u001b[0m\u001b[0mA\u001b[0m\u001b[0;34m.\u001b[0m\u001b[0mshape\u001b[0m\u001b[0;34m[\u001b[0m\u001b[0;36m0\u001b[0m\u001b[0;34m]\u001b[0m\u001b[0;34m)\u001b[0m\u001b[0;34m:\u001b[0m\u001b[0;34m\u001b[0m\u001b[0;34m\u001b[0m\u001b[0m\n\u001b[1;32m      8\u001b[0m         \u001b[0;32mfor\u001b[0m \u001b[0mk\u001b[0m \u001b[0;32min\u001b[0m \u001b[0mrange\u001b[0m\u001b[0;34m(\u001b[0m\u001b[0mB\u001b[0m\u001b[0;34m.\u001b[0m\u001b[0mshape\u001b[0m\u001b[0;34m[\u001b[0m\u001b[0;36m1\u001b[0m\u001b[0;34m]\u001b[0m\u001b[0;34m)\u001b[0m\u001b[0;34m:\u001b[0m\u001b[0;34m\u001b[0m\u001b[0;34m\u001b[0m\u001b[0m\n\u001b[0;32m----> 9\u001b[0;31m             \u001b[0mM\u001b[0m\u001b[0;34m[\u001b[0m\u001b[0mi\u001b[0m\u001b[0;34m,\u001b[0m \u001b[0mk\u001b[0m\u001b[0;34m]\u001b[0m \u001b[0;34m=\u001b[0m \u001b[0mnp\u001b[0m\u001b[0;34m.\u001b[0m\u001b[0mmax\u001b[0m\u001b[0;34m(\u001b[0m\u001b[0mnp\u001b[0m\u001b[0;34m.\u001b[0m\u001b[0mabs\u001b[0m\u001b[0;34m(\u001b[0m\u001b[0mA\u001b[0m\u001b[0;34m[\u001b[0m\u001b[0mi\u001b[0m\u001b[0;34m,\u001b[0m \u001b[0;34m:\u001b[0m\u001b[0;34m]\u001b[0m \u001b[0;34m*\u001b[0m \u001b[0mB\u001b[0m\u001b[0;34m[\u001b[0m\u001b[0;34m:\u001b[0m\u001b[0;34m,\u001b[0m \u001b[0mk\u001b[0m\u001b[0;34m]\u001b[0m\u001b[0;34m)\u001b[0m\u001b[0;34m)\u001b[0m\u001b[0;34m\u001b[0m\u001b[0;34m\u001b[0m\u001b[0m\n\u001b[0m\u001b[1;32m     10\u001b[0m     \u001b[0;32mreturn\u001b[0m \u001b[0mM\u001b[0m\u001b[0;34m\u001b[0m\u001b[0;34m\u001b[0m\u001b[0m\n",
            "\u001b[0;31mValueError\u001b[0m: operands could not be broadcast together with shapes (100,) (50,) "
          ]
        }
      ],
      "source": [
        "m = 50\n",
        "n = 100\n",
        "N = 30\n",
        "np.random.seed(1729)\n",
        "A = np.random.uniform(low=0, high=100, size=(m, n))\n",
        "B = np.random.uniform(low=0, high=1000, size=(m, N))\n",
        "c = np.random.uniform(low=0, high=100, size=n)\n",
        "p = 15\n",
        "\n",
        "chance_constraints = solve_chance_constraints(A, B, c, p, generate_bigM_c)\n",
        "print(f'Running time: {chance_constraints[-1] :.4f}')"
      ]
    },
    {
      "cell_type": "markdown",
      "id": "07c0c679",
      "metadata": {
        "deletable": false,
        "editable": false,
        "nbgrader": {
          "cell_type": "markdown",
          "checksum": "3916db33c3974e4fcbaf4cb8ef3b502f",
          "grade": false,
          "grade_id": "cell-e55ccc51f01276ed",
          "locked": true,
          "schema_version": 3,
          "solution": false,
          "task": false
        },
        "id": "07c0c679"
      },
      "source": [
        "### Q5(f)\n",
        "\n",
        "(3 points) Complete the function called `generate_bigM_f` to generate the big-M values by the method described in Question 5(e). Your function should take in as inputs:\n",
        "\n",
        "- `A`, which is a $m \\times n$ `numpy.ndarray`,\n",
        "- `B`, which is a $n \\times N$ `numpy.ndarray` where the $k$th column of `B` is $b^k$ as described in the pdf file, and\n",
        "- `p`, the number of scenarios we wish the constraints to be held.\n",
        "\n",
        "Your function should return a $m \\times N$ `numpy.ndarray` where the $(i, k)$-th entry is $\\bar{M}_i^k$ (as defined on the pdf)."
      ]
    },
    {
      "cell_type": "code",
      "execution_count": null,
      "id": "a3dadf2b",
      "metadata": {
        "deletable": false,
        "nbgrader": {
          "cell_type": "code",
          "checksum": "95d93c33649666746e3bb65474d59278",
          "grade": false,
          "grade_id": "cell-b83f37808da776be",
          "locked": false,
          "schema_version": 3,
          "solution": true,
          "task": false
        },
        "id": "a3dadf2b"
      },
      "outputs": [],
      "source": [
        "def generate_bigM_f(A, B, p):\n",
        "    M = None\n",
        "    ###########################\n",
        "    ### YOUR CODE HERE ########\n",
        "  \n",
        "    #Evaluate the mean of all the constraints:\n",
        "    Ax_bar = A @ np.ones(n)\n",
        "    #and the standard deviation of each constraint:\n",
        "    Ax_sigma = np.power(A, 2) @ np.ones(n)\n",
        "    Ax_sigma = np.sqrt(Ax_sigma - np.power(Ax_bar, 2))\n",
        "    #Now, use Chebyshev's inequality to evaluate the maximum expected value of each constraint:\n",
        "    Ax_max = Ax_bar + Ax_sigma\n",
        "    \n",
        "    #And now we can compute the bigM values as:\n",
        "    M = Ax_max @ B.T\n",
        "    return M\n"
      ]
    },
    {
      "cell_type": "code",
      "execution_count": null,
      "id": "e079ee29",
      "metadata": {
        "deletable": false,
        "editable": false,
        "nbgrader": {
          "cell_type": "code",
          "checksum": "bc5a81f54a0072aa1c9a3ed3179fae34",
          "grade": true,
          "grade_id": "cell-5f_runs",
          "locked": true,
          "points": 1,
          "schema_version": 3,
          "solution": false,
          "task": false
        },
        "id": "e079ee29"
      },
      "outputs": [],
      "source": [
        "# Assertion cell: Q5f - Please to not edit or delete this cell"
      ]
    },
    {
      "cell_type": "code",
      "execution_count": null,
      "id": "bd3d22ce",
      "metadata": {
        "deletable": false,
        "editable": false,
        "nbgrader": {
          "cell_type": "code",
          "checksum": "a3cf6da38439155e3b3efe83872e6099",
          "grade": true,
          "grade_id": "cell-5f_given",
          "locked": true,
          "points": 1,
          "schema_version": 3,
          "solution": false,
          "task": false
        },
        "id": "bd3d22ce"
      },
      "outputs": [],
      "source": [
        "# Assertion cell: Q5f - Please to not edit or delete this cell"
      ]
    },
    {
      "cell_type": "code",
      "execution_count": null,
      "id": "70899135",
      "metadata": {
        "deletable": false,
        "editable": false,
        "nbgrader": {
          "cell_type": "code",
          "checksum": "770d9adda4aa0fdff31acabd2d99d51c",
          "grade": true,
          "grade_id": "cell-5f_unseen",
          "locked": true,
          "points": 1,
          "schema_version": 3,
          "solution": false,
          "task": false
        },
        "id": "70899135"
      },
      "outputs": [],
      "source": [
        "# Assertion cell: Q5f - Please to not edit or delete this cell"
      ]
    },
    {
      "cell_type": "markdown",
      "id": "adb40011",
      "metadata": {
        "deletable": false,
        "editable": false,
        "nbgrader": {
          "cell_type": "markdown",
          "checksum": "186902ffc761e98279a189b990349d1d",
          "grade": false,
          "grade_id": "cell-07b3df6b34c97760",
          "locked": true,
          "schema_version": 3,
          "solution": false,
          "task": false
        },
        "id": "adb40011"
      },
      "source": [
        "### Q5(g)\n",
        "\n",
        "Run the following cell to obtain the runtime for the new big-M values. You may want to run this cell multiple times and average the results."
      ]
    },
    {
      "cell_type": "code",
      "execution_count": null,
      "id": "828362ae",
      "metadata": {
        "deletable": false,
        "editable": false,
        "nbgrader": {
          "cell_type": "code",
          "checksum": "e6eda59be75f89c37e15cd705f48ca5a",
          "grade": false,
          "grade_id": "cell-f21dfa3793da05d1",
          "locked": true,
          "schema_version": 3,
          "solution": false,
          "task": false
        },
        "id": "828362ae"
      },
      "outputs": [],
      "source": [
        "m = 50\n",
        "n = 100\n",
        "N = 30\n",
        "np.random.seed(1729)\n",
        "A = np.random.uniform(low=0, high=100, size=(m, n))\n",
        "B = np.random.uniform(low=0, high=1000, size=(m, N))\n",
        "c = np.random.uniform(low=0, high=100, size=n)\n",
        "p = 15\n",
        "chance_constraints = solve_chance_constraints(A, B, c, p, generate_bigM_f)\n",
        "print(f'Running time: {chance_constraints[-1] :.4f}')"
      ]
    }
  ],
  "metadata": {
    "kernelspec": {
      "display_name": "Python 3 (ipykernel)",
      "language": "python",
      "name": "python3"
    },
    "language_info": {
      "codemirror_mode": {
        "name": "ipython",
        "version": 3
      },
      "file_extension": ".py",
      "mimetype": "text/x-python",
      "name": "python",
      "nbconvert_exporter": "python",
      "pygments_lexer": "ipython3",
      "version": "3.8.12"
    },
    "toc": {
      "base_numbering": 1,
      "nav_menu": {},
      "number_sections": true,
      "sideBar": true,
      "skip_h1_title": false,
      "title_cell": "Table of Contents",
      "title_sidebar": "Contents",
      "toc_cell": false,
      "toc_position": {},
      "toc_section_display": true,
      "toc_window_display": false
    },
    "colab": {
      "name": "Copy of QBUS2310-2022S1-Assignment2-code (1).ipynb",
      "provenance": [],
      "include_colab_link": true
    }
  },
  "nbformat": 4,
  "nbformat_minor": 5
}